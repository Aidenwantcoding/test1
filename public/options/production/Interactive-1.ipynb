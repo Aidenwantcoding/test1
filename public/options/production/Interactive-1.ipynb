{
 "cells": [
  {
   "cell_type": "code",
   "execution_count": 3,
   "metadata": {},
   "outputs": [
    {
     "name": "stdout",
     "output_type": "stream",
     "text": [
      "当前var的值为 9\n",
      "当前var的值为 8\n",
      "当前var的值为 7\n",
      "当前var的值为 6\n",
      "当前var的值为 5\n",
      "当前var的值为 4\n",
      "当前var的值为 3\n",
      "当前var的值为 2\n",
      "当前var的值为 1\n",
      "代码运行结束\n"
     ]
    }
   ],
   "source": [
    "var=9\n",
    "while var>0:\n",
    "    print(\"当前var的值为\",var)\n",
    "    var-=1\n",
    "    if var==1:\n",
    "        continue\n",
    "print(\"代码运行结束\")"
   ]
  },
  {
   "cell_type": "code",
   "execution_count": 4,
   "metadata": {},
   "outputs": [
    {
     "name": "stdout",
     "output_type": "stream",
     "text": [
      "当前var的值为 9\n",
      "当前var的值为 8\n",
      "当前var的值为 7\n",
      "当前var的值为 6\n",
      "当前var的值为 5\n",
      "当前var的值为 4\n",
      "当前var的值为 3\n",
      "当前var的值为 2\n",
      "当前var的值为 1\n",
      "代码运行结束\n"
     ]
    }
   ],
   "source": [
    "var=9\n",
    "while var>0:\n",
    "    print(\"当前var的值为\",var)\n",
    "    var-=1\n",
    "    if var==3:\n",
    "        continue\n",
    "print(\"代码运行结束\")"
   ]
  },
  {
   "cell_type": "code",
   "execution_count": 5,
   "metadata": {},
   "outputs": [
    {
     "name": "stdout",
     "output_type": "stream",
     "text": [
      "当前var的值为 8\n",
      "当前var的值为 7\n",
      "当前var的值为 6\n",
      "当前var的值为 5\n",
      "当前var的值为 4\n",
      "当前var的值为 2\n",
      "当前var的值为 1\n",
      "当前var的值为 0\n",
      "代码运行结束\n"
     ]
    }
   ],
   "source": [
    "var=9\n",
    "while var>0:\n",
    "    var-=1\n",
    "    if var==3:\n",
    "        continue\n",
    "    print(\"当前var的值为\",var)\n",
    "print(\"代码运行结束\")"
   ]
  },
  {
   "cell_type": "code",
   "execution_count": 6,
   "metadata": {},
   "outputs": [
    {
     "ename": "SyntaxError",
     "evalue": "expected ':' (<ipython-input-6-f2dd49a9be19>, line 2)",
     "output_type": "error",
     "traceback": [
      "\u001b[1;36m  Cell \u001b[1;32mIn[6], line 2\u001b[1;36m\u001b[0m\n\u001b[1;33m    if letter==\"r\"\u001b[0m\n\u001b[1;37m                  ^\u001b[0m\n\u001b[1;31mSyntaxError\u001b[0m\u001b[1;31m:\u001b[0m expected ':'\n"
     ]
    }
   ],
   "source": [
    "for letter in \"letter\":\n",
    "    if letter==\"r\"\n",
    "    continue\n",
    "print(letter)"
   ]
  },
  {
   "cell_type": "code",
   "execution_count": 7,
   "metadata": {},
   "outputs": [
    {
     "ename": "SyntaxError",
     "evalue": "expected ':' (<ipython-input-7-d255d53f2b79>, line 2)",
     "output_type": "error",
     "traceback": [
      "\u001b[1;36m  Cell \u001b[1;32mIn[7], line 2\u001b[1;36m\u001b[0m\n\u001b[1;33m    if letter==\"r\"\u001b[0m\n\u001b[1;37m                  ^\u001b[0m\n\u001b[1;31mSyntaxError\u001b[0m\u001b[1;31m:\u001b[0m expected ':'\n"
     ]
    }
   ],
   "source": [
    "for letter in \"letter\":\n",
    "    if letter==\"r\"\n",
    "    continue\n",
    "    print(letter)"
   ]
  },
  {
   "cell_type": "code",
   "execution_count": 8,
   "metadata": {},
   "outputs": [
    {
     "name": "stdout",
     "output_type": "stream",
     "text": [
      "l\n",
      "e\n",
      "t\n",
      "t\n",
      "e\n"
     ]
    }
   ],
   "source": [
    "for letter in \"letter\":\n",
    "    if letter==\"r\":\n",
    "        continue\n",
    "    print(letter)\n"
   ]
  },
  {
   "cell_type": "code",
   "execution_count": 9,
   "metadata": {},
   "outputs": [
    {
     "ename": "SyntaxError",
     "evalue": "invalid syntax. Perhaps you forgot a comma? (<ipython-input-9-3ea21e6b920c>, line 4)",
     "output_type": "error",
     "traceback": [
      "\u001b[1;36m  Cell \u001b[1;32mIn[9], line 4\u001b[1;36m\u001b[0m\n\u001b[1;33m    print(n,\"=\",n//i,\"*\"i)\u001b[0m\n\u001b[1;37m                     ^\u001b[0m\n\u001b[1;31mSyntaxError\u001b[0m\u001b[1;31m:\u001b[0m invalid syntax. Perhaps you forgot a comma?\n"
     ]
    }
   ],
   "source": [
    "for n in range(11):\n",
    "    for i in range(n+1):\n",
    "        if n%i==0:\n",
    "            print(n,\"=\",n//i,\"*\"i)\n",
    "            break\n",
    "        else:\n",
    "            print(n,\"是质数\")"
   ]
  },
  {
   "cell_type": "code",
   "execution_count": 10,
   "metadata": {},
   "outputs": [
    {
     "ename": "SyntaxError",
     "evalue": "invalid syntax. Perhaps you forgot a comma? (<ipython-input-10-813cc98a314d>, line 4)",
     "output_type": "error",
     "traceback": [
      "\u001b[1;36m  Cell \u001b[1;32mIn[10], line 4\u001b[1;36m\u001b[0m\n\u001b[1;33m    print(n,\"=\",i,\"*\"n//i)\u001b[0m\n\u001b[1;37m                  ^\u001b[0m\n\u001b[1;31mSyntaxError\u001b[0m\u001b[1;31m:\u001b[0m invalid syntax. Perhaps you forgot a comma?\n"
     ]
    }
   ],
   "source": [
    "for n in range(11):\n",
    "    for i in range(n+1):\n",
    "        if n%i==0:\n",
    "            print(n,\"=\",i,\"*\"n//i)\n",
    "            break\n",
    "        else:\n",
    "            print(n,\"是质数\")"
   ]
  },
  {
   "cell_type": "code",
   "execution_count": 11,
   "metadata": {},
   "outputs": [
    {
     "ename": "SyntaxError",
     "evalue": "invalid syntax. Perhaps you forgot a comma? (<ipython-input-11-084d88830f92>, line 5)",
     "output_type": "error",
     "traceback": [
      "\u001b[1;36m  Cell \u001b[1;32mIn[11], line 5\u001b[1;36m\u001b[0m\n\u001b[1;33m    print(n,\"=\",a,\"*\"i)\u001b[0m\n\u001b[1;37m                  ^\u001b[0m\n\u001b[1;31mSyntaxError\u001b[0m\u001b[1;31m:\u001b[0m invalid syntax. Perhaps you forgot a comma?\n"
     ]
    }
   ],
   "source": [
    "for n in range(11):\n",
    "    for i in range(n+1):\n",
    "        if n%i==0:\n",
    "            a=n//i\n",
    "            print(n,\"=\",a,\"*\"i)\n",
    "            break\n",
    "        else:\n",
    "            print(n,\"是质数\")"
   ]
  },
  {
   "cell_type": "code",
   "execution_count": 12,
   "metadata": {},
   "outputs": [
    {
     "ename": "SyntaxError",
     "evalue": "invalid syntax. Perhaps you forgot a comma? (<ipython-input-12-084d88830f92>, line 5)",
     "output_type": "error",
     "traceback": [
      "\u001b[1;36m  Cell \u001b[1;32mIn[12], line 5\u001b[1;36m\u001b[0m\n\u001b[1;33m    print(n,\"=\",a,\"*\"i)\u001b[0m\n\u001b[1;37m                  ^\u001b[0m\n\u001b[1;31mSyntaxError\u001b[0m\u001b[1;31m:\u001b[0m invalid syntax. Perhaps you forgot a comma?\n"
     ]
    }
   ],
   "source": [
    "for n in range(11):\n",
    "    for i in range(n+1):\n",
    "        if n%i==0:\n",
    "            a=n//i\n",
    "            print(n,\"=\",a,\"*\"i)\n",
    "            break\n",
    "        else:\n",
    "            print(n,\"是质数\")"
   ]
  },
  {
   "cell_type": "code",
   "execution_count": 13,
   "metadata": {},
   "outputs": [
    {
     "name": "stdout",
     "output_type": "stream",
     "text": [
      "2  是质数\n",
      "3  是质数\n",
      "4 等于 2 * 2\n",
      "5  是质数\n",
      "6 等于 2 * 3\n",
      "7  是质数\n",
      "8 等于 2 * 4\n",
      "9 等于 3 * 3\n"
     ]
    }
   ],
   "source": [
    "for n in range(2, 10):\n",
    "    for x in range(2, n):\n",
    "        if n % x == 0:\n",
    "            print(n, '等于', x, '*', n//x)\n",
    "            break\n",
    "    else:\n",
    "        # 循环中没有找到元素\n",
    "        print(n, ' 是质数')"
   ]
  },
  {
   "cell_type": "code",
   "execution_count": 14,
   "metadata": {},
   "outputs": [
    {
     "ename": "SyntaxError",
     "evalue": "invalid syntax. Perhaps you forgot a comma? (<ipython-input-14-5a9e74149c39>, line 5)",
     "output_type": "error",
     "traceback": [
      "\u001b[1;36m  Cell \u001b[1;32mIn[14], line 5\u001b[1;36m\u001b[0m\n\u001b[1;33m    print(n,\"=\",a,\"*\"i)\u001b[0m\n\u001b[1;37m                  ^\u001b[0m\n\u001b[1;31mSyntaxError\u001b[0m\u001b[1;31m:\u001b[0m invalid syntax. Perhaps you forgot a comma?\n"
     ]
    }
   ],
   "source": [
    "for n in range(11):\n",
    "    for i in range(n+1):\n",
    "        if n%i==0:\n",
    "            a=n//i\n",
    "            print(n,\"=\",a,\"*\"i)\n",
    "            break\n",
    "    else:\n",
    "            print(n,\"是质数\")"
   ]
  },
  {
   "cell_type": "code",
   "execution_count": 15,
   "metadata": {},
   "outputs": [
    {
     "ename": "SyntaxError",
     "evalue": "invalid syntax. Perhaps you forgot a comma? (<ipython-input-15-daa223703d55>, line 5)",
     "output_type": "error",
     "traceback": [
      "\u001b[1;36m  Cell \u001b[1;32mIn[15], line 5\u001b[1;36m\u001b[0m\n\u001b[1;33m    print(n,\"=\",a,\"*\"i)\u001b[0m\n\u001b[1;37m                  ^\u001b[0m\n\u001b[1;31mSyntaxError\u001b[0m\u001b[1;31m:\u001b[0m invalid syntax. Perhaps you forgot a comma?\n"
     ]
    }
   ],
   "source": [
    "for n in range(11):\n",
    "    for i in range(n+1):\n",
    "        if n%i==0:\n",
    "            a=n//i\n",
    "            print(n,\"=\",a,\"*\"i)\n",
    "            break\n",
    "    else:\n",
    "        print(n,\"是质数\")"
   ]
  },
  {
   "cell_type": "code",
   "execution_count": 16,
   "metadata": {},
   "outputs": [
    {
     "ename": "ZeroDivisionError",
     "evalue": "integer division or modulo by zero",
     "output_type": "error",
     "traceback": [
      "\u001b[1;31m---------------------------------------------------------------------------\u001b[0m",
      "\u001b[1;31mZeroDivisionError\u001b[0m                         Traceback (most recent call last)",
      "Cell \u001b[1;32mIn[16], line 3\u001b[0m\n\u001b[0;32m      1\u001b[0m \u001b[39mfor\u001b[39;00m n \u001b[39min\u001b[39;00m \u001b[39mrange\u001b[39m(\u001b[39m11\u001b[39m):\n\u001b[0;32m      2\u001b[0m     \u001b[39mfor\u001b[39;00m i \u001b[39min\u001b[39;00m \u001b[39mrange\u001b[39m(n\u001b[39m+\u001b[39m\u001b[39m1\u001b[39m):\n\u001b[1;32m----> 3\u001b[0m         \u001b[39mif\u001b[39;00m n\u001b[39m%\u001b[39;49mi\u001b[39m==\u001b[39m\u001b[39m0\u001b[39m:\n\u001b[0;32m      4\u001b[0m             a\u001b[39m=\u001b[39mn\u001b[39m/\u001b[39m\u001b[39m/\u001b[39mi\n\u001b[0;32m      5\u001b[0m             \u001b[39mprint\u001b[39m(n,\u001b[39m\"\u001b[39m\u001b[39m=\u001b[39m\u001b[39m\"\u001b[39m,a,\u001b[39m\"\u001b[39m\u001b[39m*\u001b[39m\u001b[39m\"\u001b[39m,i)\n",
      "\u001b[1;31mZeroDivisionError\u001b[0m: integer division or modulo by zero"
     ]
    }
   ],
   "source": [
    "for n in range(11):\n",
    "    for i in range(n+1):\n",
    "        if n%i==0:\n",
    "            a=n//i\n",
    "            print(n,\"=\",a,\"*\",i)\n",
    "            break\n",
    "    else:\n",
    "            print(n,\"是质数\")"
   ]
  },
  {
   "cell_type": "code",
   "execution_count": 17,
   "metadata": {},
   "outputs": [
    {
     "ename": "ZeroDivisionError",
     "evalue": "integer division or modulo by zero",
     "output_type": "error",
     "traceback": [
      "\u001b[1;31m---------------------------------------------------------------------------\u001b[0m",
      "\u001b[1;31mZeroDivisionError\u001b[0m                         Traceback (most recent call last)",
      "Cell \u001b[1;32mIn[17], line 3\u001b[0m\n\u001b[0;32m      1\u001b[0m \u001b[39mfor\u001b[39;00m n \u001b[39min\u001b[39;00m \u001b[39mrange\u001b[39m(\u001b[39m11\u001b[39m):\n\u001b[0;32m      2\u001b[0m     \u001b[39mfor\u001b[39;00m i \u001b[39min\u001b[39;00m \u001b[39mrange\u001b[39m(n\u001b[39m+\u001b[39m\u001b[39m1\u001b[39m):\n\u001b[1;32m----> 3\u001b[0m         \u001b[39mif\u001b[39;00m n\u001b[39m%\u001b[39;49mi\u001b[39m==\u001b[39m\u001b[39m0\u001b[39m:\n\u001b[0;32m      4\u001b[0m             a\u001b[39m=\u001b[39mn\u001b[39m/\u001b[39m\u001b[39m/\u001b[39mi\n\u001b[0;32m      5\u001b[0m             \u001b[39mprint\u001b[39m(n,\u001b[39m\"\u001b[39m\u001b[39m=\u001b[39m\u001b[39m\"\u001b[39m,a,\u001b[39m\"\u001b[39m\u001b[39m*\u001b[39m\u001b[39m\"\u001b[39m,i)\n",
      "\u001b[1;31mZeroDivisionError\u001b[0m: integer division or modulo by zero"
     ]
    }
   ],
   "source": [
    "for n in range(11):\n",
    "    for i in range(n+1):\n",
    "        if n%i==0:\n",
    "            a=n//i\n",
    "            print(n,\"=\",a,\"*\",i)\n",
    "            break\n",
    "        else:\n",
    "            print(n,\"是质数\")"
   ]
  },
  {
   "cell_type": "code",
   "execution_count": 18,
   "metadata": {},
   "outputs": [
    {
     "ename": "ZeroDivisionError",
     "evalue": "integer division or modulo by zero",
     "output_type": "error",
     "traceback": [
      "\u001b[1;31m---------------------------------------------------------------------------\u001b[0m",
      "\u001b[1;31mZeroDivisionError\u001b[0m                         Traceback (most recent call last)",
      "Cell \u001b[1;32mIn[18], line 3\u001b[0m\n\u001b[0;32m      1\u001b[0m \u001b[39mfor\u001b[39;00m n \u001b[39min\u001b[39;00m \u001b[39mrange\u001b[39m(\u001b[39m11\u001b[39m):\n\u001b[0;32m      2\u001b[0m     \u001b[39mfor\u001b[39;00m i \u001b[39min\u001b[39;00m \u001b[39mrange\u001b[39m(n\u001b[39m+\u001b[39m\u001b[39m1\u001b[39m):\n\u001b[1;32m----> 3\u001b[0m         \u001b[39mif\u001b[39;00m n\u001b[39m%\u001b[39;49mi\u001b[39m==\u001b[39m\u001b[39m0\u001b[39m:\n\u001b[0;32m      4\u001b[0m             \u001b[39mprint\u001b[39m(n,\u001b[39m\"\u001b[39m\u001b[39m=\u001b[39m\u001b[39m\"\u001b[39m,n\u001b[39m/\u001b[39m\u001b[39m/\u001b[39mi,\u001b[39m\"\u001b[39m\u001b[39m*\u001b[39m\u001b[39m\"\u001b[39m,i)\n\u001b[0;32m      5\u001b[0m             \u001b[39mbreak\u001b[39;00m\n",
      "\u001b[1;31mZeroDivisionError\u001b[0m: integer division or modulo by zero"
     ]
    }
   ],
   "source": [
    "for n in range(11):\n",
    "    for i in range(n+1):\n",
    "        if n%i==0:\n",
    "            print(n,\"=\",n//i,\"*\",i)\n",
    "            break\n",
    "        else:\n",
    "            print(n,\"是质数\")"
   ]
  },
  {
   "cell_type": "code",
   "execution_count": 19,
   "metadata": {},
   "outputs": [
    {
     "ename": "SyntaxError",
     "evalue": "invalid decimal literal (<ipython-input-19-948e141b0fe1>, line 2)",
     "output_type": "error",
     "traceback": [
      "\u001b[1;36m  Cell \u001b[1;32mIn[19], line 2\u001b[1;36m\u001b[0m\n\u001b[1;33m    for i in range(1：n+1):\u001b[0m\n\u001b[1;37m                   ^\u001b[0m\n\u001b[1;31mSyntaxError\u001b[0m\u001b[1;31m:\u001b[0m invalid decimal literal\n"
     ]
    }
   ],
   "source": [
    "for n in range(1:11):\n",
    "    for i in range(1：n+1):\n",
    "        if n%i==0:\n",
    "            a=n//i\n",
    "            print(n,\"=\",a,\"*\",i)\n",
    "            break\n",
    "        else:\n",
    "            print(n,\"是质数\")"
   ]
  },
  {
   "cell_type": "code",
   "execution_count": 20,
   "metadata": {},
   "outputs": [
    {
     "ename": "SyntaxError",
     "evalue": "invalid decimal literal (<ipython-input-20-26baec59d781>, line 1)",
     "output_type": "error",
     "traceback": [
      "\u001b[1;36m  Cell \u001b[1;32mIn[20], line 1\u001b[1;36m\u001b[0m\n\u001b[1;33m    for n in range(1，11):\u001b[0m\n\u001b[1;37m                   ^\u001b[0m\n\u001b[1;31mSyntaxError\u001b[0m\u001b[1;31m:\u001b[0m invalid decimal literal\n"
     ]
    }
   ],
   "source": [
    "for n in range(1，11):\n",
    "    for i in range(1，n+1):\n",
    "        if n%i==0:\n",
    "            a=n//i\n",
    "            print(n,\"=\",a,\"*\",i)\n",
    "            break\n",
    "        else:\n",
    "            print(n,\"是质数\")"
   ]
  },
  {
   "cell_type": "code",
   "execution_count": 21,
   "metadata": {},
   "outputs": [
    {
     "ename": "SyntaxError",
     "evalue": "invalid decimal literal (<ipython-input-21-3e57a869ec6c>, line 1)",
     "output_type": "error",
     "traceback": [
      "\u001b[1;36m  Cell \u001b[1;32mIn[21], line 1\u001b[1;36m\u001b[0m\n\u001b[1;33m    for n in range(1，11):\u001b[0m\n\u001b[1;37m                   ^\u001b[0m\n\u001b[1;31mSyntaxError\u001b[0m\u001b[1;31m:\u001b[0m invalid decimal literal\n"
     ]
    }
   ],
   "source": [
    "for n in range(1，11):\n",
    "    for i in range(1，n):\n",
    "        if n%i==0:\n",
    "            a=n//i\n",
    "            print(n,\"=\",a,\"*\",i)\n",
    "            break\n",
    "        else:\n",
    "            print(n,\"是质数\")"
   ]
  },
  {
   "cell_type": "code",
   "execution_count": 22,
   "metadata": {},
   "outputs": [
    {
     "name": "stdout",
     "output_type": "stream",
     "text": [
      "2  是质数\n",
      "3  是质数\n",
      "4 等于 2 * 2\n",
      "5  是质数\n",
      "6 等于 2 * 3\n",
      "7  是质数\n",
      "8 等于 2 * 4\n",
      "9 等于 3 * 3\n"
     ]
    }
   ],
   "source": [
    "#!/usr/bin/python3\n",
    " \n",
    "for n in range(2, 10):\n",
    "    for x in range(2, n):\n",
    "        if n % x == 0:\n",
    "            print(n, '等于', x, '*', n//x)\n",
    "            break\n",
    "    else:\n",
    "        # 循环中没有找到元素\n",
    "        print(n, ' 是质数')"
   ]
  },
  {
   "cell_type": "code",
   "execution_count": 23,
   "metadata": {},
   "outputs": [
    {
     "ename": "SyntaxError",
     "evalue": "invalid decimal literal (<ipython-input-23-d39a6f47ebcf>, line 1)",
     "output_type": "error",
     "traceback": [
      "\u001b[1;36m  Cell \u001b[1;32mIn[23], line 1\u001b[1;36m\u001b[0m\n\u001b[1;33m    for n in range(2，11):\u001b[0m\n\u001b[1;37m                   ^\u001b[0m\n\u001b[1;31mSyntaxError\u001b[0m\u001b[1;31m:\u001b[0m invalid decimal literal\n"
     ]
    }
   ],
   "source": [
    "for n in range(2，11):\n",
    "    for i in range(2，n):\n",
    "        if n%i==0:\n",
    "            a=n//i\n",
    "            print(n,\"=\",a,\"*\",i)\n",
    "            break\n",
    "        else:\n",
    "            print(n,\"是质数\")"
   ]
  },
  {
   "cell_type": "code",
   "execution_count": 24,
   "metadata": {},
   "outputs": [
    {
     "name": "stdout",
     "output_type": "stream",
     "text": [
      "2 = 2 * 1\n",
      "3 = 3 * 1\n",
      "4 = 4 * 1\n",
      "5 = 5 * 1\n",
      "6 = 6 * 1\n",
      "7 = 7 * 1\n",
      "8 = 8 * 1\n",
      "9 = 9 * 1\n",
      "10 = 10 * 1\n"
     ]
    }
   ],
   "source": [
    "for n in range(2,11):\n",
    "    for i in range(1,n):\n",
    "        if n%i==0:\n",
    "            a=n//i\n",
    "            print(n,\"=\",a,\"*\",i)\n",
    "            break\n",
    "        else:\n",
    "            print(n,\"是质数\")"
   ]
  },
  {
   "cell_type": "code",
   "execution_count": 25,
   "metadata": {},
   "outputs": [
    {
     "name": "stdout",
     "output_type": "stream",
     "text": [
      "2 = 2 * 1\n",
      "3 = 3 * 1\n",
      "4 = 4 * 1\n",
      "5 = 5 * 1\n",
      "6 = 6 * 1\n",
      "7 = 7 * 1\n",
      "8 = 8 * 1\n",
      "9 = 9 * 1\n",
      "10 = 10 * 1\n"
     ]
    }
   ],
   "source": [
    "for n in range(2,11):\n",
    "    for i in range(1,n):\n",
    "        if n%i==0:\n",
    "            a=n//i\n",
    "            print(n,\"=\",a,\"*\",i)\n",
    "            break\n",
    "    else:\n",
    "        print(n,\"是质数\")"
   ]
  },
  {
   "cell_type": "code",
   "execution_count": 26,
   "metadata": {},
   "outputs": [
    {
     "name": "stdout",
     "output_type": "stream",
     "text": [
      "2 = 2 * 1\n",
      "3 = 3 * 1\n",
      "4 = 4 * 1\n",
      "5 = 5 * 1\n",
      "6 = 6 * 1\n",
      "7 = 7 * 1\n",
      "8 = 8 * 1\n",
      "9 = 9 * 1\n",
      "10 = 10 * 1\n"
     ]
    }
   ],
   "source": [
    "for n in range(2,11):\n",
    "    for i in range(1,n):\n",
    "        if n%i==0:\n",
    "            a=n//i\n",
    "            print(n,\"=\",a,\"*\",i)\n",
    "            break\n",
    "        else:\n",
    "            print(n,\"是质数\")"
   ]
  },
  {
   "cell_type": "code",
   "execution_count": 27,
   "metadata": {},
   "outputs": [
    {
     "name": "stdout",
     "output_type": "stream",
     "text": [
      "2 = 2 * 1\n",
      "3 = 3 * 1\n",
      "4 = 4 * 1\n",
      "5 = 5 * 1\n",
      "6 = 6 * 1\n",
      "7 = 7 * 1\n",
      "8 = 8 * 1\n",
      "9 = 9 * 1\n",
      "10 = 10 * 1\n"
     ]
    }
   ],
   "source": [
    "for n in range(2,11):\n",
    "    for i in range(1,n):\n",
    "        if n%i==0:\n",
    "            a=n//i\n",
    "            print(n,\"=\",a,\"*\",i)\n",
    "            break\n",
    "    else:\n",
    "        print(n,\"是质数\")"
   ]
  },
  {
   "cell_type": "code",
   "execution_count": 28,
   "metadata": {},
   "outputs": [
    {
     "name": "stdout",
     "output_type": "stream",
     "text": [
      "3 是质数\n",
      "4 = 2 * 2\n",
      "5 是质数\n",
      "5 是质数\n",
      "5 是质数\n",
      "6 = 3 * 2\n",
      "7 是质数\n",
      "7 是质数\n",
      "7 是质数\n",
      "7 是质数\n",
      "7 是质数\n",
      "8 = 4 * 2\n",
      "9 是质数\n",
      "9 = 3 * 3\n",
      "10 = 5 * 2\n"
     ]
    }
   ],
   "source": [
    "for n in range(2,11):\n",
    "    for i in range(2,n):\n",
    "        if n%i==0:\n",
    "            a=n//i\n",
    "            print(n,\"=\",a,\"*\",i)\n",
    "            break\n",
    "        else:\n",
    "            print(n,\"是质数\")"
   ]
  },
  {
   "cell_type": "code",
   "execution_count": 29,
   "metadata": {},
   "outputs": [
    {
     "name": "stdout",
     "output_type": "stream",
     "text": [
      "3 是质数\n",
      "4 = 2 * 2\n",
      "5 是质数\n",
      "5 是质数\n",
      "5 是质数\n",
      "6 = 3 * 2\n",
      "7 是质数\n",
      "7 是质数\n",
      "7 是质数\n",
      "7 是质数\n",
      "7 是质数\n",
      "8 = 4 * 2\n",
      "9 是质数\n",
      "9 = 3 * 3\n",
      "10 = 5 * 2\n"
     ]
    }
   ],
   "source": [
    "for n in range(2,11):\n",
    "    for i in range(2,n):\n",
    "        if n%i==0:\n",
    "            print(n,\"=\",n//i,\"*\",i)\n",
    "            break\n",
    "        else:\n",
    "            print(n,\"是质数\")"
   ]
  },
  {
   "cell_type": "code",
   "execution_count": 30,
   "metadata": {},
   "outputs": [
    {
     "name": "stdout",
     "output_type": "stream",
     "text": [
      "2 是质数\n",
      "3 是质数\n",
      "4 = 2 * 2\n",
      "5 是质数\n",
      "6 = 3 * 2\n",
      "7 是质数\n",
      "8 = 4 * 2\n",
      "9 = 3 * 3\n",
      "10 = 5 * 2\n"
     ]
    }
   ],
   "source": [
    "for n in range(2,11):\n",
    "    for i in range(2,n):\n",
    "        if n%i==0:\n",
    "            a=n//i\n",
    "            print(n,\"=\",a,\"*\",i)\n",
    "            break\n",
    "    else:\n",
    "        print(n,\"是质数\")"
   ]
  },
  {
   "cell_type": "code",
   "execution_count": 31,
   "metadata": {},
   "outputs": [
    {
     "ename": "SyntaxError",
     "evalue": "invalid syntax (<ipython-input-31-6327ac52f83d>, line 2)",
     "output_type": "error",
     "traceback": [
      "\u001b[1;36m  Cell \u001b[1;32mIn[31], line 2\u001b[1;36m\u001b[0m\n\u001b[1;33m    for b in range(1:11):\u001b[0m\n\u001b[1;37m                    ^\u001b[0m\n\u001b[1;31mSyntaxError\u001b[0m\u001b[1;31m:\u001b[0m invalid syntax\n"
     ]
    }
   ],
   "source": [
    "a,b=0,1\n",
    "for b in range(1:11):\n",
    "    a=b\n",
    "    b=a+b\n",
    "    print(b)\n",
    "    b=b+1\n",
    "    "
   ]
  },
  {
   "cell_type": "code",
   "execution_count": 32,
   "metadata": {},
   "outputs": [
    {
     "ename": "SyntaxError",
     "evalue": "invalid decimal literal (<ipython-input-32-b28d71c8ef93>, line 2)",
     "output_type": "error",
     "traceback": [
      "\u001b[1;36m  Cell \u001b[1;32mIn[32], line 2\u001b[1;36m\u001b[0m\n\u001b[1;33m    for b in range(1，11):\u001b[0m\n\u001b[1;37m                   ^\u001b[0m\n\u001b[1;31mSyntaxError\u001b[0m\u001b[1;31m:\u001b[0m invalid decimal literal\n"
     ]
    }
   ],
   "source": [
    "a,b=0,1\n",
    "for b in range(1，11):\n",
    "    a=b\n",
    "    b=a+b\n",
    "    print(b)\n",
    "    b=b+1"
   ]
  },
  {
   "cell_type": "code",
   "execution_count": 33,
   "metadata": {},
   "outputs": [
    {
     "name": "stdout",
     "output_type": "stream",
     "text": [
      "2\n",
      "4\n",
      "6\n",
      "8\n",
      "10\n",
      "12\n",
      "14\n",
      "16\n",
      "18\n",
      "20\n"
     ]
    }
   ],
   "source": [
    "a,b=0,1\n",
    "for b in range(1,11):\n",
    "    a=b\n",
    "    b=a+b\n",
    "    print(b)\n",
    "    b=b+1"
   ]
  },
  {
   "cell_type": "code",
   "execution_count": 34,
   "metadata": {},
   "outputs": [
    {
     "name": "stdout",
     "output_type": "stream",
     "text": [
      "1\n",
      "2\n",
      "3\n",
      "4\n",
      "5\n",
      "6\n",
      "7\n",
      "8\n",
      "9\n",
      "10\n"
     ]
    }
   ],
   "source": [
    "a,b=0,1\n",
    "for b in range(1,11):\n",
    "    print(b)\n",
    "    a=b\n",
    "    b=a+b\n",
    "    b=b+1"
   ]
  },
  {
   "cell_type": "code",
   "execution_count": 35,
   "metadata": {},
   "outputs": [
    {
     "name": "stdout",
     "output_type": "stream",
     "text": [
      "1\n",
      "1\n",
      "2\n",
      "3\n",
      "5\n",
      "8\n"
     ]
    }
   ],
   "source": [
    "a,b=0,1\n",
    "while b<10:\n",
    "    print(b)\n",
    "    a,b=b,a+b"
   ]
  },
  {
   "cell_type": "code",
   "execution_count": 36,
   "metadata": {},
   "outputs": [
    {
     "name": "stdout",
     "output_type": "stream",
     "text": [
      "5\n",
      "4\n",
      "3\n",
      "2\n",
      "1\n"
     ]
    }
   ],
   "source": [
    "def countdown(n):\n",
    "    while n > 0:\n",
    "        yield n\n",
    "        n -= 1\n",
    " \n",
    "# 创建生成器对象\n",
    "generator = countdown(5)\n",
    " \n",
    "# 通过迭代生成器获取值\n",
    "print(next(generator))  # 输出: 5\n",
    "print(next(generator))  # 输出: 4\n",
    "print(next(generator))  # 输出: 3\n",
    " \n",
    "# 使用 for 循环迭代生成器\n",
    "for value in generator:\n",
    "    print(value)  # 输出: 2 1"
   ]
  },
  {
   "cell_type": "markdown",
   "metadata": {
    "isInteractiveWindowMessageCell": true
   },
   "source": [
    "已连接到 Python 3.10.11"
   ]
  },
  {
   "cell_type": "code",
   "execution_count": 1,
   "metadata": {},
   "outputs": [],
   "source": [
    "import builtins"
   ]
  },
  {
   "cell_type": "code",
   "execution_count": 2,
   "metadata": {},
   "outputs": [
    {
     "data": {
      "text/plain": [
       "['ArithmeticError',\n",
       " 'AssertionError',\n",
       " 'AttributeError',\n",
       " 'BaseException',\n",
       " 'BlockingIOError',\n",
       " 'BrokenPipeError',\n",
       " 'BufferError',\n",
       " 'BytesWarning',\n",
       " 'ChildProcessError',\n",
       " 'ConnectionAbortedError',\n",
       " 'ConnectionError',\n",
       " 'ConnectionRefusedError',\n",
       " 'ConnectionResetError',\n",
       " 'DeprecationWarning',\n",
       " 'EOFError',\n",
       " 'Ellipsis',\n",
       " 'EncodingWarning',\n",
       " 'EnvironmentError',\n",
       " 'Exception',\n",
       " 'False',\n",
       " 'FileExistsError',\n",
       " 'FileNotFoundError',\n",
       " 'FloatingPointError',\n",
       " 'FutureWarning',\n",
       " 'GeneratorExit',\n",
       " 'IOError',\n",
       " 'ImportError',\n",
       " 'ImportWarning',\n",
       " 'IndentationError',\n",
       " 'IndexError',\n",
       " 'InterruptedError',\n",
       " 'IsADirectoryError',\n",
       " 'KeyError',\n",
       " 'KeyboardInterrupt',\n",
       " 'LookupError',\n",
       " 'MemoryError',\n",
       " 'ModuleNotFoundError',\n",
       " 'NameError',\n",
       " 'None',\n",
       " 'NotADirectoryError',\n",
       " 'NotImplemented',\n",
       " 'NotImplementedError',\n",
       " 'OSError',\n",
       " 'OverflowError',\n",
       " 'PendingDeprecationWarning',\n",
       " 'PermissionError',\n",
       " 'ProcessLookupError',\n",
       " 'RecursionError',\n",
       " 'ReferenceError',\n",
       " 'ResourceWarning',\n",
       " 'RuntimeError',\n",
       " 'RuntimeWarning',\n",
       " 'StopAsyncIteration',\n",
       " 'StopIteration',\n",
       " 'SyntaxError',\n",
       " 'SyntaxWarning',\n",
       " 'SystemError',\n",
       " 'SystemExit',\n",
       " 'TabError',\n",
       " 'TimeoutError',\n",
       " 'True',\n",
       " 'TypeError',\n",
       " 'UnboundLocalError',\n",
       " 'UnicodeDecodeError',\n",
       " 'UnicodeEncodeError',\n",
       " 'UnicodeError',\n",
       " 'UnicodeTranslateError',\n",
       " 'UnicodeWarning',\n",
       " 'UserWarning',\n",
       " 'ValueError',\n",
       " 'Warning',\n",
       " 'WindowsError',\n",
       " 'ZeroDivisionError',\n",
       " '__IPYTHON__',\n",
       " '__build_class__',\n",
       " '__debug__',\n",
       " '__doc__',\n",
       " '__import__',\n",
       " '__loader__',\n",
       " '__name__',\n",
       " '__package__',\n",
       " '__spec__',\n",
       " 'abs',\n",
       " 'aiter',\n",
       " 'all',\n",
       " 'anext',\n",
       " 'any',\n",
       " 'ascii',\n",
       " 'bin',\n",
       " 'bool',\n",
       " 'breakpoint',\n",
       " 'bytearray',\n",
       " 'bytes',\n",
       " 'callable',\n",
       " 'chr',\n",
       " 'classmethod',\n",
       " 'compile',\n",
       " 'complex',\n",
       " 'copyright',\n",
       " 'credits',\n",
       " 'delattr',\n",
       " 'dict',\n",
       " 'dir',\n",
       " 'display',\n",
       " 'divmod',\n",
       " 'enumerate',\n",
       " 'eval',\n",
       " 'exec',\n",
       " 'execfile',\n",
       " 'filter',\n",
       " 'float',\n",
       " 'format',\n",
       " 'frozenset',\n",
       " 'get_ipython',\n",
       " 'getattr',\n",
       " 'globals',\n",
       " 'hasattr',\n",
       " 'hash',\n",
       " 'help',\n",
       " 'hex',\n",
       " 'id',\n",
       " 'input',\n",
       " 'int',\n",
       " 'isinstance',\n",
       " 'issubclass',\n",
       " 'iter',\n",
       " 'len',\n",
       " 'license',\n",
       " 'list',\n",
       " 'locals',\n",
       " 'map',\n",
       " 'max',\n",
       " 'memoryview',\n",
       " 'min',\n",
       " 'next',\n",
       " 'object',\n",
       " 'oct',\n",
       " 'open',\n",
       " 'ord',\n",
       " 'pow',\n",
       " 'print',\n",
       " 'property',\n",
       " 'range',\n",
       " 'repr',\n",
       " 'reversed',\n",
       " 'round',\n",
       " 'runfile',\n",
       " 'set',\n",
       " 'setattr',\n",
       " 'slice',\n",
       " 'sorted',\n",
       " 'staticmethod',\n",
       " 'str',\n",
       " 'sum',\n",
       " 'super',\n",
       " 'tuple',\n",
       " 'type',\n",
       " 'vars',\n",
       " 'zip']"
      ]
     },
     "execution_count": 2,
     "metadata": {},
     "output_type": "execute_result"
    }
   ],
   "source": [
    "dir(builtins)"
   ]
  },
  {
   "cell_type": "markdown",
   "metadata": {
    "isInteractiveWindowMessageCell": true
   },
   "source": [
    "已连接到 Python 3.10.11"
   ]
  },
  {
   "cell_type": "code",
   "execution_count": 1,
   "metadata": {},
   "outputs": [],
   "source": [
    "import datetime\n",
    "current_datetime=datetime.datetime"
   ]
  },
  {
   "cell_type": "code",
   "execution_count": 2,
   "metadata": {},
   "outputs": [
    {
     "name": "stdout",
     "output_type": "stream",
     "text": [
      "<class 'datetime.datetime'>\n"
     ]
    }
   ],
   "source": [
    "print(current_datetime)"
   ]
  },
  {
   "cell_type": "code",
   "execution_count": 3,
   "metadata": {},
   "outputs": [
    {
     "name": "stdout",
     "output_type": "stream",
     "text": [
      "<built-in method now of type object at 0x00007FFAC7731CD0>\n"
     ]
    }
   ],
   "source": [
    "current_datetime=datetime.datetime.now\n",
    "print(current_datetime)"
   ]
  },
  {
   "cell_type": "code",
   "execution_count": 4,
   "metadata": {},
   "outputs": [
    {
     "name": "stdout",
     "output_type": "stream",
     "text": [
      "<built-in method now of type object at 0x00007FFAC7731CD0>\n"
     ]
    }
   ],
   "source": [
    "import datetime\n",
    "current_datetime=datetime.datetime.now\n",
    "print(current_datetime)"
   ]
  },
  {
   "cell_type": "code",
   "execution_count": 5,
   "metadata": {},
   "outputs": [
    {
     "name": "stdout",
     "output_type": "stream",
     "text": [
      "2023-10-04 18:13:31.365592\n"
     ]
    }
   ],
   "source": [
    "import datetime\n",
    "current_datetime=datetime.datetime.now()\n",
    "print(current_datetime)\n",
    "\n"
   ]
  },
  {
   "cell_type": "code",
   "execution_count": 6,
   "metadata": {},
   "outputs": [
    {
     "name": "stdout",
     "output_type": "stream",
     "text": [
      "2023-10-04 18:13:31\n"
     ]
    }
   ],
   "source": [
    "formatted_datetime=current_datetime.strftime(\"%Y-%m-%d %H:%M:%S\")\n",
    "print(formatted_datetime)"
   ]
  },
  {
   "cell_type": "code",
   "execution_count": 7,
   "metadata": {},
   "outputs": [
    {
     "data": {
      "text/plain": [
       "datetime.date(2023, 10, 4)"
      ]
     },
     "execution_count": 7,
     "metadata": {},
     "output_type": "execute_result"
    }
   ],
   "source": [
    "from datetime import date\n",
    "now=date.today()\n",
    "now  "
   ]
  },
  {
   "cell_type": "code",
   "execution_count": 8,
   "metadata": {},
   "outputs": [
    {
     "data": {
      "text/plain": [
       "'10-04-23.04 Oct 2023 is a Wednesday on the 04 day of October'"
      ]
     },
     "execution_count": 8,
     "metadata": {},
     "output_type": "execute_result"
    }
   ],
   "source": [
    "now.strftime(\"%m-%d-%y.%d %b %Y is a %A on the %d day of %B\")"
   ]
  },
  {
   "cell_type": "code",
   "execution_count": 9,
   "metadata": {},
   "outputs": [
    {
     "data": {
      "text/plain": [
       "21614"
      ]
     },
     "execution_count": 9,
     "metadata": {},
     "output_type": "execute_result"
    }
   ],
   "source": [
    "birthday=date(1964,7,31)\n",
    "age=now-birthday\n",
    "age.days"
   ]
  },
  {
   "cell_type": "code",
   "execution_count": 10,
   "metadata": {},
   "outputs": [
    {
     "data": {
      "text/plain": [
       "41"
      ]
     },
     "execution_count": 10,
     "metadata": {},
     "output_type": "execute_result"
    }
   ],
   "source": [
    "import zlib\n",
    "s=b\"witch which has which witches wrist watch\"\n",
    "len(s)"
   ]
  },
  {
   "cell_type": "code",
   "execution_count": 11,
   "metadata": {},
   "outputs": [
    {
     "data": {
      "text/plain": [
       "TestResults(failed=0, attempted=0)"
      ]
     },
     "execution_count": 11,
     "metadata": {},
     "output_type": "execute_result"
    }
   ],
   "source": [
    "def average(values):\n",
    "    \"\"\"\n",
    "    computers the arithmetic mean of a list of numbers.\n",
    "    print(average([20,30,70])\n",
    "    \"\"\"\n",
    "    return sum(values)/len(values)\n",
    "import doctest\n",
    "doctest.testmod()"
   ]
  },
  {
   "cell_type": "markdown",
   "metadata": {
    "isInteractiveWindowMessageCell": true
   },
   "source": [
    "没有连接的内核"
   ]
  }
 ],
 "metadata": {
  "kernelspec": {
   "display_name": "Python 3",
   "language": "python",
   "name": "python3"
  },
  "language_info": {
   "codemirror_mode": {
    "name": "ipython",
    "version": 3
   },
   "file_extension": ".py",
   "mimetype": "text/x-python",
   "name": "python",
   "nbconvert_exporter": "python",
   "pygments_lexer": "ipython3",
   "version": "3.10.11"
  }
 },
 "nbformat": 4,
 "nbformat_minor": 2
}
